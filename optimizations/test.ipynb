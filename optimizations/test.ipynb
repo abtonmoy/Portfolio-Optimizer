{
 "cells": [
  {
   "cell_type": "code",
   "execution_count": 1,
   "id": "27a91db0",
   "metadata": {},
   "outputs": [],
   "source": [
    "import sys\n",
    "import os\n",
    "sys.path.append(os.path.abspath('..'))  \n"
   ]
  },
  {
   "cell_type": "code",
   "execution_count": 2,
   "id": "71b46ec3",
   "metadata": {},
   "outputs": [],
   "source": [
    "import pathlib\n",
    "import numpy as np\n",
    "import pandas as pd\n",
    "import matplotlib.pyplot as plt\n",
    "import scipy.optimize as sci_plt\n",
    "import csv  \n",
    "from pprint import pprint\n",
    "from sklearn.preprocessing import StandardScaler\n",
    "from operations.fetch_data import PriceHistory\n",
    "from keys.all_keys import alpha_vantage_api_key\n",
    "from optimization_apis.monte_carlo import MonteCarloSimulation\n",
    "from operations.data_prep import DataPreparer"
   ]
  },
  {
   "cell_type": "code",
   "execution_count": null,
   "id": "ac48c9e2",
   "metadata": {},
   "outputs": [],
   "source": [
    "path = 'C:\\projects\\Son_of_anton\\data\\stocks.csv'\n",
    "df = pd.read_csv('C:\\projects\\Son_of_anton\\data\\stocks.csv')\n",
    "df.head()"
   ]
  },
  {
   "cell_type": "code",
   "execution_count": null,
   "id": "d7dd4781",
   "metadata": {},
   "outputs": [],
   "source": [
    "pricedf = DataPreparer(path)\n",
    "pricedf.load_and_prepare()\n",
    "# Get data for simulations\n",
    "pivot_df, log_returns, expected_returns, cov_matrix = pricedf.get_simulation_data()\n",
    "\n",
    "print(\"Pivot DataFrame:\")\n",
    "print(pivot_df.head())\n",
    "print(\"\\nLog Returns:\")\n",
    "print(log_returns.head())"
   ]
  },
  {
   "cell_type": "code",
   "execution_count": null,
   "id": "68a6da79",
   "metadata": {},
   "outputs": [],
   "source": [
    "   \n",
    "    \n",
    "    # Initialize simulator\n",
    "simulator = MonteCarloSimulation(log_returns, expected_returns, cov_matrix)\n",
    "    \n",
    "    # Run Monte Carlo simulation\n",
    "simulator.monte_carlo_simulation()\n",
    "    \n",
    "    # Get optimal portfolios\n",
    "max_sharpe, min_vol = simulator.get_optimal_portfolios()\n",
    "    \n",
    "    # Plot results\n",
    "fig = simulator.plot_simulation()\n",
    "fig.show()\n",
    "    \n",
    "    # Calculate efficient frontier\n",
    "frontier_df = simulator.calculate_efficient_frontier()\n",
    "frontier_fig = simulator.plot_efficient_frontier(frontier_df)\n",
    "frontier_fig.show()\n",
    "\n",
    "fig = simulator.plot_combined_simulation_and_frontier(frontier_df)\n",
    "fig.show()\n",
    "    # Calculate VaR\n",
    "var = simulator.calculate_var('monte_carlo', weights=max_sharpe['Portfolio Weights'])\n",
    "print(f\"Value at Risk: ${var:,.2f}\")"
   ]
  },
  {
   "cell_type": "code",
   "execution_count": null,
   "id": "41b43e47",
   "metadata": {},
   "outputs": [],
   "source": []
  }
 ],
 "metadata": {
  "kernelspec": {
   "display_name": "venv",
   "language": "python",
   "name": "python3"
  },
  "language_info": {
   "codemirror_mode": {
    "name": "ipython",
    "version": 3
   },
   "file_extension": ".py",
   "mimetype": "text/x-python",
   "name": "python",
   "nbconvert_exporter": "python",
   "pygments_lexer": "ipython3",
   "version": "3.11.5"
  }
 },
 "nbformat": 4,
 "nbformat_minor": 5
}
