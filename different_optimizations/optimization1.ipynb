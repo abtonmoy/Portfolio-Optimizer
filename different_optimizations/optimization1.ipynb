{
 "cells": [
  {
   "cell_type": "code",
   "execution_count": 13,
   "id": "36b554b0",
   "metadata": {},
   "outputs": [
    {
     "name": "stdout",
     "output_type": "stream",
     "text": [
      "['Dict', 'FR', 'List', 'MO', 'PriceHistory', 'SA', 'SU', 'TH', 'TU', 'Union', 'UserAgent', 'WE', '__builtins__', '__cached__', '__doc__', '__file__', '__loader__', '__name__', '__package__', '__spec__', 'date', 'datetime', 'pd', 'relativedelta', 'requests', 'timedelta']\n"
     ]
    }
   ],
   "source": [
    "import sys\n",
    "import os\n",
    "\n",
    "# Add parent directory to Python path\n",
    "sys.path.append(os.path.abspath('..'))\n",
    "\n",
    "from myopt import client\n",
    "print(dir(client))  # should show your defined items like PreceHistory\n"
   ]
  },
  {
   "cell_type": "code",
   "execution_count": 20,
   "id": "5d0bed29",
   "metadata": {},
   "outputs": [],
   "source": [
    "import pathlib\n",
    "import numpy as np\n",
    "import pandas as pd\n",
    "import matplotlib.pyplot as plt\n",
    "import scipy.optimize as sci_plt\n",
    "from fake_useragent import UserAgent\n",
    "\n",
    "from pprint import pprint\n",
    "from sklearn.preprocessing import StandardScaler\n",
    "from myopt.client import PriceHistory"
   ]
  },
  {
   "cell_type": "code",
   "execution_count": 16,
   "id": "d8357135",
   "metadata": {},
   "outputs": [],
   "source": [
    "\n",
    "# set display options\n",
    "pd.set_option('display.max_colwidth', None)\n",
    "pd.set_option('expand_frame_repr', False)"
   ]
  },
  {
   "cell_type": "code",
   "execution_count": 29,
   "id": "62487d1c",
   "metadata": {},
   "outputs": [
    {
     "ename": "TypeError",
     "evalue": "'NoneType' object is not subscriptable",
     "output_type": "error",
     "traceback": [
      "\u001b[31m---------------------------------------------------------------------------\u001b[39m",
      "\u001b[31mTypeError\u001b[39m                                 Traceback (most recent call last)",
      "\u001b[36mCell\u001b[39m\u001b[36m \u001b[39m\u001b[32mIn[29]\u001b[39m\u001b[32m, line 17\u001b[39m\n\u001b[32m     14\u001b[39m     user_agent = \u001b[33m\"\u001b[39m\u001b[33mMozilla/5.0 (Windows NT 10.0; Win64; x64) AppleWebKit/537.36 (KHTML, like Gecko) Chrome/91.0.4472.124 Safari/537.36\u001b[39m\u001b[33m\"\u001b[39m\n\u001b[32m     16\u001b[39m \u001b[38;5;28;01mif\u001b[39;00m \u001b[38;5;129;01mnot\u001b[39;00m pathlib.Path(path).exists():\n\u001b[32m---> \u001b[39m\u001b[32m17\u001b[39m     price_his_client = \u001b[43mPriceHistory\u001b[49m\u001b[43m(\u001b[49m\u001b[43msymbols\u001b[49m\u001b[43m=\u001b[49m\u001b[43msymbols\u001b[49m\u001b[43m,\u001b[49m\u001b[43m \u001b[49m\u001b[43muser_agent\u001b[49m\u001b[43m=\u001b[49m\u001b[43muser_agent\u001b[49m\u001b[43m)\u001b[49m\n\u001b[32m     19\u001b[39m     price_his_client.price_data_frame.to_csv(\u001b[33m'\u001b[39m\u001b[33mdata/stock_data.csv\u001b[39m\u001b[33m'\u001b[39m, index=\u001b[38;5;28;01mFalse\u001b[39;00m)\n\u001b[32m     20\u001b[39m     price_data_frame: pd.DataFrame = price_his_client.price_data_frame\n",
      "\u001b[36mFile \u001b[39m\u001b[32mc:\\projects\\Portfolio-Optimizer\\myopt\\client.py:15\u001b[39m, in \u001b[36mPriceHistory.__init__\u001b[39m\u001b[34m(self, symbols, user_agent)\u001b[39m\n\u001b[32m     13\u001b[39m \u001b[38;5;28mself\u001b[39m._symbols = symbols\n\u001b[32m     14\u001b[39m \u001b[38;5;28mself\u001b[39m.user_agent = user_agent\n\u001b[32m---> \u001b[39m\u001b[32m15\u001b[39m \u001b[38;5;28mself\u001b[39m.price_data_frame = \u001b[38;5;28;43mself\u001b[39;49m\u001b[43m.\u001b[49m\u001b[43m_build_data_frame\u001b[49m\u001b[43m(\u001b[49m\u001b[43m)\u001b[49m\n",
      "\u001b[36mFile \u001b[39m\u001b[32mc:\\projects\\Portfolio-Optimizer\\myopt\\client.py:33\u001b[39m, in \u001b[36mPriceHistory._build_data_frame\u001b[39m\u001b[34m(self)\u001b[39m\n\u001b[32m     30\u001b[39m from_date = to_date - relativedelta(month=\u001b[32m6\u001b[39m)\n\u001b[32m     32\u001b[39m \u001b[38;5;28;01mfor\u001b[39;00m symbol \u001b[38;5;129;01min\u001b[39;00m \u001b[38;5;28mself\u001b[39m._symbols:\n\u001b[32m---> \u001b[39m\u001b[32m33\u001b[39m     all_data = \u001b[38;5;28;43mself\u001b[39;49m\u001b[43m.\u001b[49m\u001b[43m_grab_prices\u001b[49m\u001b[43m(\u001b[49m\u001b[43msymbol\u001b[49m\u001b[43m=\u001b[49m\u001b[43msymbol\u001b[49m\u001b[43m,\u001b[49m\u001b[43m \u001b[49m\u001b[43mfrom_date\u001b[49m\u001b[43m=\u001b[49m\u001b[43mfrom_date\u001b[49m\u001b[43m,\u001b[49m\u001b[43m \u001b[49m\u001b[43mto_date\u001b[49m\u001b[43m=\u001b[49m\u001b[43mto_date\u001b[49m\u001b[43m)\u001b[49m + all_data\n\u001b[32m     35\u001b[39m price_data_frame = pd.DataFrame(data= all_data)\n\u001b[32m     36\u001b[39m price_data_frame[\u001b[33m'\u001b[39m\u001b[33mdate\u001b[39m\u001b[33m'\u001b[39m] = pd.to_datetime(price_data_frame[\u001b[33m'\u001b[39m\u001b[33mdate\u001b[39m\u001b[33m'\u001b[39m])\n",
      "\u001b[36mFile \u001b[39m\u001b[32mc:\\projects\\Portfolio-Optimizer\\myopt\\client.py:66\u001b[39m, in \u001b[36mPriceHistory._grab_prices\u001b[39m\u001b[34m(self, symbol, from_date, to_date)\u001b[39m\n\u001b[32m     64\u001b[39m \u001b[38;5;28;01mif\u001b[39;00m historical_data.ok:\n\u001b[32m     65\u001b[39m     historical_data = historical_data.json()\n\u001b[32m---> \u001b[39m\u001b[32m66\u001b[39m     historical_data = \u001b[43mhistorical_data\u001b[49m\u001b[43m[\u001b[49m\u001b[33;43m'\u001b[39;49m\u001b[33;43mdata\u001b[39;49m\u001b[33;43m'\u001b[39;49m\u001b[43m]\u001b[49m\u001b[43m[\u001b[49m\u001b[33;43m'\u001b[39;49m\u001b[33;43mtradesTable\u001b[39;49m\u001b[33;43m'\u001b[39;49m\u001b[43m]\u001b[49m[\u001b[33m'\u001b[39m\u001b[33mrows\u001b[39m\u001b[33m'\u001b[39m]\n\u001b[32m     68\u001b[39m     \u001b[38;5;28;01mfor\u001b[39;00m table_row \u001b[38;5;129;01min\u001b[39;00m historical_data:\n\u001b[32m     69\u001b[39m         table_row[\u001b[33m'\u001b[39m\u001b[33msymbol\u001b[39m\u001b[33m'\u001b[39m] = symbol\n",
      "\u001b[31mTypeError\u001b[39m: 'NoneType' object is not subscriptable"
     ]
    }
   ],
   "source": [
    "from fake_useragent import UserAgent\n",
    "\n",
    "# define symbols\n",
    "symbols = ['AAPL', 'MSFT', 'SQ', 'AMZN']\n",
    "num_of_symbols = len(symbols)\n",
    "path = r'C:\\projects\\Portfolio-Optimizer\\data\\stock_data.csv'\n",
    "\n",
    "try:\n",
    "    # Try to create UserAgent without relying on local data\n",
    "    ua = UserAgent(use_cache_server=False)\n",
    "    user_agent = ua.random\n",
    "except Exception:\n",
    "    # Fallback user agent\n",
    "    user_agent = \"Mozilla/5.0 (Windows NT 10.0; Win64; x64) AppleWebKit/537.36 (KHTML, like Gecko) Chrome/91.0.4472.124 Safari/537.36\"\n",
    "\n",
    "if not pathlib.Path(path).exists():\n",
    "    price_his_client = PriceHistory(symbols=symbols, user_agent=user_agent)\n",
    "\n",
    "    price_his_client.price_data_frame.to_csv('data/stock_data.csv', index=False)\n",
    "    price_data_frame: pd.DataFrame = price_his_client.price_data_frame\n",
    "else:\n",
    "    price_data_frame: pd.DataFrame = pd.read_csv(path)\n",
    "\n",
    "print(price_data_frame.head())"
   ]
  },
  {
   "cell_type": "code",
   "execution_count": 35,
   "id": "f23a1518",
   "metadata": {},
   "outputs": [
    {
     "name": "stderr",
     "output_type": "stream",
     "text": [
      "Unable to find local data/jsonl file using importlib-resources.\n",
      "Traceback (most recent call last):\n",
      "  File \"c:\\projects\\Portfolio-Optimizer\\venv\\Lib\\site-packages\\fake_useragent\\utils.py\", line 54, in find_browser_json_path\n",
      "  File \"C:\\Users\\abdul\\anaconda3\\Lib\\importlib\\resources\\_common.py\", line 22, in files\n",
      "    return from_package(get_package(package))\n",
      "                        ^^^^^^^^^^^^^^^^^^^^\n",
      "  File \"C:\\Users\\abdul\\anaconda3\\Lib\\importlib\\resources\\_common.py\", line 53, in get_package\n",
      "    resolved = resolve(package)\n",
      "               ^^^^^^^^^^^^^^^^\n",
      "  File \"C:\\Users\\abdul\\anaconda3\\Lib\\importlib\\resources\\_common.py\", line 44, in resolve\n",
      "    return cand if isinstance(cand, types.ModuleType) else importlib.import_module(cand)\n",
      "                                                           ^^^^^^^^^^^^^^^^^^^^^^^^^^^^^\n",
      "  File \"C:\\Users\\abdul\\anaconda3\\Lib\\importlib\\__init__.py\", line 126, in import_module\n",
      "    return _bootstrap._gcd_import(name[level:], package, level)\n",
      "           ^^^^^^^^^^^^^^^^^^^^^^^^^^^^^^^^^^^^^^^^^^^^^^^^^^^^\n",
      "  File \"<frozen importlib._bootstrap>\", line 1204, in _gcd_import\n",
      "  File \"<frozen importlib._bootstrap>\", line 1176, in _find_and_load\n",
      "  File \"<frozen importlib._bootstrap>\", line 1140, in _find_and_load_unlocked\n",
      "ModuleNotFoundError: No module named 'fake_useragent.data'\n"
     ]
    },
    {
     "ename": "InvalidHeader",
     "evalue": "Header part (<__main__. object at 0x0000021535EA8990>) from ('user-agent', <__main__. object at 0x0000021535EA8990>) must be of type str or bytes, not <class '__main__.'>",
     "output_type": "error",
     "traceback": [
      "\u001b[31m---------------------------------------------------------------------------\u001b[39m",
      "\u001b[31mInvalidHeader\u001b[39m                             Traceback (most recent call last)",
      "\u001b[36mCell\u001b[39m\u001b[36m \u001b[39m\u001b[32mIn[35]\u001b[39m\u001b[32m, line 17\u001b[39m\n\u001b[32m     14\u001b[39m     ua = \u001b[38;5;28mtype\u001b[39m(\u001b[33m'\u001b[39m\u001b[33m'\u001b[39m, (), {\u001b[33m'\u001b[39m\u001b[33mrandom\u001b[39m\u001b[33m'\u001b[39m: \u001b[33m\"\u001b[39m\u001b[33mMozilla/5.0 (Windows NT 10.0; Win64; x64) AppleWebKit/537.36 (KHTML, like Gecko) Chrome/91.0 Safari/537.36\u001b[39m\u001b[33m\"\u001b[39m})()\n\u001b[32m     16\u001b[39m \u001b[38;5;28;01mif\u001b[39;00m \u001b[38;5;129;01mnot\u001b[39;00m pathlib.Path(path).exists():\n\u001b[32m---> \u001b[39m\u001b[32m17\u001b[39m     price_his_client = \u001b[43mPriceHistory\u001b[49m\u001b[43m(\u001b[49m\u001b[43msymbols\u001b[49m\u001b[43m=\u001b[49m\u001b[43msymbols\u001b[49m\u001b[43m,\u001b[49m\u001b[43m \u001b[49m\u001b[43muser_agent\u001b[49m\u001b[43m=\u001b[49m\u001b[43mua\u001b[49m\u001b[43m)\u001b[49m\n\u001b[32m     18\u001b[39m     price_his_client.price_data_frame.to_csv(path, index=\u001b[38;5;28;01mFalse\u001b[39;00m)\n\u001b[32m     19\u001b[39m     price_data_frame = price_his_client.price_data_frame\n",
      "\u001b[36mFile \u001b[39m\u001b[32mc:\\projects\\Portfolio-Optimizer\\myopt\\client.py:15\u001b[39m, in \u001b[36mPriceHistory.__init__\u001b[39m\u001b[34m(self, symbols, user_agent)\u001b[39m\n\u001b[32m     13\u001b[39m \u001b[38;5;28mself\u001b[39m._symbols = symbols\n\u001b[32m     14\u001b[39m \u001b[38;5;28mself\u001b[39m.user_agent = user_agent\n\u001b[32m---> \u001b[39m\u001b[32m15\u001b[39m \u001b[38;5;28mself\u001b[39m.price_data_frame = \u001b[38;5;28;43mself\u001b[39;49m\u001b[43m.\u001b[49m\u001b[43m_build_data_frame\u001b[49m\u001b[43m(\u001b[49m\u001b[43m)\u001b[49m\n",
      "\u001b[36mFile \u001b[39m\u001b[32mc:\\projects\\Portfolio-Optimizer\\myopt\\client.py:33\u001b[39m, in \u001b[36mPriceHistory._build_data_frame\u001b[39m\u001b[34m(self)\u001b[39m\n\u001b[32m     30\u001b[39m from_date = to_date - relativedelta(month=\u001b[32m6\u001b[39m)\n\u001b[32m     32\u001b[39m \u001b[38;5;28;01mfor\u001b[39;00m symbol \u001b[38;5;129;01min\u001b[39;00m \u001b[38;5;28mself\u001b[39m._symbols:\n\u001b[32m---> \u001b[39m\u001b[32m33\u001b[39m     all_data = \u001b[38;5;28;43mself\u001b[39;49m\u001b[43m.\u001b[49m\u001b[43m_grab_prices\u001b[49m\u001b[43m(\u001b[49m\u001b[43msymbol\u001b[49m\u001b[43m=\u001b[49m\u001b[43msymbol\u001b[49m\u001b[43m,\u001b[49m\u001b[43m \u001b[49m\u001b[43mfrom_date\u001b[49m\u001b[43m=\u001b[49m\u001b[43mfrom_date\u001b[49m\u001b[43m,\u001b[49m\u001b[43m \u001b[49m\u001b[43mto_date\u001b[49m\u001b[43m=\u001b[49m\u001b[43mto_date\u001b[49m\u001b[43m)\u001b[49m + all_data\n\u001b[32m     35\u001b[39m price_data_frame = pd.DataFrame(data= all_data)\n\u001b[32m     36\u001b[39m price_data_frame[\u001b[33m'\u001b[39m\u001b[33mdate\u001b[39m\u001b[33m'\u001b[39m] = pd.to_datetime(price_data_frame[\u001b[33m'\u001b[39m\u001b[33mdate\u001b[39m\u001b[33m'\u001b[39m])\n",
      "\u001b[36mFile \u001b[39m\u001b[32mc:\\projects\\Portfolio-Optimizer\\myopt\\client.py:57\u001b[39m, in \u001b[36mPriceHistory._grab_prices\u001b[39m\u001b[34m(self, symbol, from_date, to_date)\u001b[39m\n\u001b[32m     52\u001b[39m headers = {\n\u001b[32m     53\u001b[39m     \u001b[33m'\u001b[39m\u001b[33muser-agent\u001b[39m\u001b[33m'\u001b[39m: \u001b[38;5;28mself\u001b[39m.user_agent\n\u001b[32m     54\u001b[39m }\n\u001b[32m     56\u001b[39m \u001b[38;5;66;03m#grab the historic data\u001b[39;00m\n\u001b[32m---> \u001b[39m\u001b[32m57\u001b[39m historical_data = \u001b[43mrequests\u001b[49m\u001b[43m.\u001b[49m\u001b[43mget\u001b[49m\u001b[43m(\u001b[49m\n\u001b[32m     58\u001b[39m \u001b[43m    \u001b[49m\u001b[43murl\u001b[49m\u001b[43m=\u001b[49m\u001b[43mprice_url\u001b[49m\u001b[43m,\u001b[49m\n\u001b[32m     59\u001b[39m \u001b[43m    \u001b[49m\u001b[43mparams\u001b[49m\u001b[43m=\u001b[49m\u001b[43mparams\u001b[49m\u001b[43m,\u001b[49m\n\u001b[32m     60\u001b[39m \u001b[43m    \u001b[49m\u001b[43mheaders\u001b[49m\u001b[43m=\u001b[49m\u001b[43mheaders\u001b[49m\u001b[43m,\u001b[49m\n\u001b[32m     61\u001b[39m \u001b[43m    \u001b[49m\u001b[43mverify\u001b[49m\u001b[43m=\u001b[49m\u001b[38;5;28;43;01mTrue\u001b[39;49;00m\n\u001b[32m     62\u001b[39m \u001b[43m\u001b[49m\u001b[43m)\u001b[49m\n\u001b[32m     64\u001b[39m \u001b[38;5;28;01mif\u001b[39;00m historical_data.ok:\n\u001b[32m     65\u001b[39m     historical_data = historical_data.json()\n",
      "\u001b[36mFile \u001b[39m\u001b[32mc:\\projects\\Portfolio-Optimizer\\venv\\Lib\\site-packages\\requests\\api.py:73\u001b[39m, in \u001b[36mget\u001b[39m\u001b[34m(url, params, **kwargs)\u001b[39m\n",
      "\u001b[36mFile \u001b[39m\u001b[32mc:\\projects\\Portfolio-Optimizer\\venv\\Lib\\site-packages\\requests\\api.py:59\u001b[39m, in \u001b[36mrequest\u001b[39m\u001b[34m(method, url, **kwargs)\u001b[39m\n",
      "\u001b[36mFile \u001b[39m\u001b[32mc:\\projects\\Portfolio-Optimizer\\venv\\Lib\\site-packages\\requests\\sessions.py:575\u001b[39m, in \u001b[36mrequest\u001b[39m\u001b[34m(self, method, url, params, data, headers, cookies, files, auth, timeout, allow_redirects, proxies, hooks, stream, verify, cert, json)\u001b[39m\n",
      "\u001b[36mFile \u001b[39m\u001b[32mc:\\projects\\Portfolio-Optimizer\\venv\\Lib\\site-packages\\requests\\sessions.py:484\u001b[39m, in \u001b[36mprepare_request\u001b[39m\u001b[34m(self, request)\u001b[39m\n",
      "\u001b[36mFile \u001b[39m\u001b[32mc:\\projects\\Portfolio-Optimizer\\venv\\Lib\\site-packages\\requests\\models.py:368\u001b[39m, in \u001b[36mprepare\u001b[39m\u001b[34m(self, method, url, headers, files, data, params, auth, cookies, hooks, json)\u001b[39m\n",
      "\u001b[36mFile \u001b[39m\u001b[32mc:\\projects\\Portfolio-Optimizer\\venv\\Lib\\site-packages\\requests\\models.py:490\u001b[39m, in \u001b[36mprepare_headers\u001b[39m\u001b[34m(self, headers)\u001b[39m\n",
      "\u001b[36mFile \u001b[39m\u001b[32mc:\\projects\\Portfolio-Optimizer\\venv\\Lib\\site-packages\\requests\\utils.py:1042\u001b[39m, in \u001b[36mcheck_header_validity\u001b[39m\u001b[34m(header)\u001b[39m\n",
      "\u001b[36mFile \u001b[39m\u001b[32mc:\\projects\\Portfolio-Optimizer\\venv\\Lib\\site-packages\\requests\\utils.py:1051\u001b[39m, in \u001b[36m_validate_header_part\u001b[39m\u001b[34m(header, header_part, header_validator_index)\u001b[39m\n",
      "\u001b[31mInvalidHeader\u001b[39m: Header part (<__main__. object at 0x0000021535EA8990>) from ('user-agent', <__main__. object at 0x0000021535EA8990>) must be of type str or bytes, not <class '__main__.'>"
     ]
    }
   ],
   "source": [
    "import pathlib\n",
    "import pandas as pd\n",
    "from myopt.client import PriceHistory\n",
    "\n",
    "# Define symbols\n",
    "symbols = ['AAPL', 'MSFT', 'SQ', 'AMZN']\n",
    "path = r'C:\\projects\\Portfolio-Optimizer\\data\\stock_data.csv'\n",
    "\n",
    "# Try to use real User-Agent, fallback if needed\n",
    "try:\n",
    "    from fake_useragent import UserAgent\n",
    "    ua = UserAgent(fallback=\"Mozilla/5.0 (Windows NT 10.0; Win64; x64) AppleWebKit/537.36 (KHTML, like Gecko) Chrome/91.0 Safari/537.36\")\n",
    "except Exception:\n",
    "    ua = type('', (), {'random': \"Mozilla/5.0 (Windows NT 10.0; Win64; x64) AppleWebKit/537.36 (KHTML, like Gecko) Chrome/91.0 Safari/537.36\"})()\n",
    "\n",
    "if not pathlib.Path(path).exists():\n",
    "    price_his_client = PriceHistory(symbols=symbols, user_agent=ua)\n",
    "    price_his_client.price_data_frame.to_csv(path, index=False)\n",
    "    price_data_frame = price_his_client.price_data_frame\n",
    "else:\n",
    "    price_data_frame = pd.read_csv(path)\n",
    "\n",
    "print(price_data_frame.head())"
   ]
  },
  {
   "cell_type": "code",
   "execution_count": 37,
   "id": "3a503304",
   "metadata": {},
   "outputs": [
    {
     "name": "stderr",
     "output_type": "stream",
     "text": [
      "Unable to find local data/jsonl file using importlib-resources.\n",
      "Traceback (most recent call last):\n",
      "  File \"c:\\projects\\Portfolio-Optimizer\\venv\\Lib\\site-packages\\fake_useragent\\utils.py\", line 54, in find_browser_json_path\n",
      "  File \"C:\\Users\\abdul\\anaconda3\\Lib\\importlib\\resources\\_common.py\", line 22, in files\n",
      "    return from_package(get_package(package))\n",
      "                        ^^^^^^^^^^^^^^^^^^^^\n",
      "  File \"C:\\Users\\abdul\\anaconda3\\Lib\\importlib\\resources\\_common.py\", line 53, in get_package\n",
      "    resolved = resolve(package)\n",
      "               ^^^^^^^^^^^^^^^^\n",
      "  File \"C:\\Users\\abdul\\anaconda3\\Lib\\importlib\\resources\\_common.py\", line 44, in resolve\n",
      "    return cand if isinstance(cand, types.ModuleType) else importlib.import_module(cand)\n",
      "                                                           ^^^^^^^^^^^^^^^^^^^^^^^^^^^^^\n",
      "  File \"C:\\Users\\abdul\\anaconda3\\Lib\\importlib\\__init__.py\", line 126, in import_module\n",
      "    return _bootstrap._gcd_import(name[level:], package, level)\n",
      "           ^^^^^^^^^^^^^^^^^^^^^^^^^^^^^^^^^^^^^^^^^^^^^^^^^^^^\n",
      "  File \"<frozen importlib._bootstrap>\", line 1204, in _gcd_import\n",
      "  File \"<frozen importlib._bootstrap>\", line 1176, in _find_and_load\n",
      "  File \"<frozen importlib._bootstrap>\", line 1140, in _find_and_load_unlocked\n",
      "ModuleNotFoundError: No module named 'fake_useragent.data'\n"
     ]
    },
    {
     "ename": "FakeUserAgentError",
     "evalue": "Failed to load or parse browsers.json",
     "output_type": "error",
     "traceback": [
      "\u001b[31m---------------------------------------------------------------------------\u001b[39m",
      "\u001b[31mModuleNotFoundError\u001b[39m                       Traceback (most recent call last)",
      "\u001b[36mFile \u001b[39m\u001b[32mc:\\projects\\Portfolio-Optimizer\\venv\\Lib\\site-packages\\fake_useragent\\utils.py:54\u001b[39m, in \u001b[36mfind_browser_json_path\u001b[39m\u001b[34m()\u001b[39m\n",
      "\u001b[36mFile \u001b[39m\u001b[32m~\\anaconda3\\Lib\\importlib\\resources\\_common.py:22\u001b[39m, in \u001b[36mfiles\u001b[39m\u001b[34m(package)\u001b[39m\n\u001b[32m     19\u001b[39m \u001b[38;5;250m\u001b[39m\u001b[33;03m\"\"\"\u001b[39;00m\n\u001b[32m     20\u001b[39m \u001b[33;03mGet a Traversable resource from a package\u001b[39;00m\n\u001b[32m     21\u001b[39m \u001b[33;03m\"\"\"\u001b[39;00m\n\u001b[32m---> \u001b[39m\u001b[32m22\u001b[39m \u001b[38;5;28;01mreturn\u001b[39;00m from_package(\u001b[43mget_package\u001b[49m\u001b[43m(\u001b[49m\u001b[43mpackage\u001b[49m\u001b[43m)\u001b[49m)\n",
      "\u001b[36mFile \u001b[39m\u001b[32m~\\anaconda3\\Lib\\importlib\\resources\\_common.py:53\u001b[39m, in \u001b[36mget_package\u001b[39m\u001b[34m(package)\u001b[39m\n\u001b[32m     49\u001b[39m \u001b[38;5;250m\u001b[39m\u001b[33;03m\"\"\"Take a package name or module object and return the module.\u001b[39;00m\n\u001b[32m     50\u001b[39m \n\u001b[32m     51\u001b[39m \u001b[33;03mRaise an exception if the resolved module is not a package.\u001b[39;00m\n\u001b[32m     52\u001b[39m \u001b[33;03m\"\"\"\u001b[39;00m\n\u001b[32m---> \u001b[39m\u001b[32m53\u001b[39m resolved = \u001b[43mresolve\u001b[49m\u001b[43m(\u001b[49m\u001b[43mpackage\u001b[49m\u001b[43m)\u001b[49m\n\u001b[32m     54\u001b[39m \u001b[38;5;28;01mif\u001b[39;00m wrap_spec(resolved).submodule_search_locations \u001b[38;5;129;01mis\u001b[39;00m \u001b[38;5;28;01mNone\u001b[39;00m:\n",
      "\u001b[36mFile \u001b[39m\u001b[32m~\\anaconda3\\Lib\\importlib\\resources\\_common.py:44\u001b[39m, in \u001b[36mresolve\u001b[39m\u001b[34m(cand)\u001b[39m\n\u001b[32m     42\u001b[39m \u001b[38;5;28;01mdef\u001b[39;00m\u001b[38;5;250m \u001b[39m\u001b[34mresolve\u001b[39m(cand):\n\u001b[32m     43\u001b[39m     \u001b[38;5;66;03m# type: (Package) -> types.ModuleType\u001b[39;00m\n\u001b[32m---> \u001b[39m\u001b[32m44\u001b[39m     \u001b[38;5;28;01mreturn\u001b[39;00m cand \u001b[38;5;28;01mif\u001b[39;00m \u001b[38;5;28misinstance\u001b[39m(cand, types.ModuleType) \u001b[38;5;28;01melse\u001b[39;00m \u001b[43mimportlib\u001b[49m\u001b[43m.\u001b[49m\u001b[43mimport_module\u001b[49m\u001b[43m(\u001b[49m\u001b[43mcand\u001b[49m\u001b[43m)\u001b[49m\n",
      "\u001b[36mFile \u001b[39m\u001b[32m~\\anaconda3\\Lib\\importlib\\__init__.py:126\u001b[39m, in \u001b[36mimport_module\u001b[39m\u001b[34m(name, package)\u001b[39m\n\u001b[32m    125\u001b[39m         level += \u001b[32m1\u001b[39m\n\u001b[32m--> \u001b[39m\u001b[32m126\u001b[39m \u001b[38;5;28;01mreturn\u001b[39;00m \u001b[43m_bootstrap\u001b[49m\u001b[43m.\u001b[49m\u001b[43m_gcd_import\u001b[49m\u001b[43m(\u001b[49m\u001b[43mname\u001b[49m\u001b[43m[\u001b[49m\u001b[43mlevel\u001b[49m\u001b[43m:\u001b[49m\u001b[43m]\u001b[49m\u001b[43m,\u001b[49m\u001b[43m \u001b[49m\u001b[43mpackage\u001b[49m\u001b[43m,\u001b[49m\u001b[43m \u001b[49m\u001b[43mlevel\u001b[49m\u001b[43m)\u001b[49m\n",
      "\u001b[36mFile \u001b[39m\u001b[32m<frozen importlib._bootstrap>:1204\u001b[39m, in \u001b[36m_gcd_import\u001b[39m\u001b[34m(name, package, level)\u001b[39m\n",
      "\u001b[36mFile \u001b[39m\u001b[32m<frozen importlib._bootstrap>:1176\u001b[39m, in \u001b[36m_find_and_load\u001b[39m\u001b[34m(name, import_)\u001b[39m\n",
      "\u001b[36mFile \u001b[39m\u001b[32m<frozen importlib._bootstrap>:1140\u001b[39m, in \u001b[36m_find_and_load_unlocked\u001b[39m\u001b[34m(name, import_)\u001b[39m\n",
      "\u001b[31mModuleNotFoundError\u001b[39m: No module named 'fake_useragent.data'",
      "\nThe above exception was the direct cause of the following exception:\n",
      "\u001b[31mFakeUserAgentError\u001b[39m                        Traceback (most recent call last)",
      "\u001b[36mFile \u001b[39m\u001b[32mc:\\projects\\Portfolio-Optimizer\\venv\\Lib\\site-packages\\fake_useragent\\utils.py:76\u001b[39m, in \u001b[36mload\u001b[39m\u001b[34m()\u001b[39m\n",
      "\u001b[36mFile \u001b[39m\u001b[32mc:\\projects\\Portfolio-Optimizer\\venv\\Lib\\site-packages\\fake_useragent\\utils.py:61\u001b[39m, in \u001b[36mfind_browser_json_path\u001b[39m\u001b[34m()\u001b[39m\n",
      "\u001b[31mFakeUserAgentError\u001b[39m: Could not locate browsers.jsonl file",
      "\nThe above exception was the direct cause of the following exception:\n",
      "\u001b[31mFakeUserAgentError\u001b[39m                        Traceback (most recent call last)",
      "\u001b[36mCell\u001b[39m\u001b[36m \u001b[39m\u001b[32mIn[37]\u001b[39m\u001b[32m, line 2\u001b[39m\n\u001b[32m      1\u001b[39m \u001b[38;5;28;01mfrom\u001b[39;00m\u001b[38;5;250m \u001b[39m\u001b[34;01mfake_useragent\u001b[39;00m\u001b[38;5;250m \u001b[39m\u001b[38;5;28;01mimport\u001b[39;00m UserAgent\n\u001b[32m----> \u001b[39m\u001b[32m2\u001b[39m ua = \u001b[43mUserAgent\u001b[49m\u001b[43m(\u001b[49m\u001b[43m)\u001b[49m\n\u001b[32m      3\u001b[39m \u001b[38;5;28mprint\u001b[39m(ua.random)\n",
      "\u001b[36mFile \u001b[39m\u001b[32mc:\\projects\\Portfolio-Optimizer\\venv\\Lib\\site-packages\\fake_useragent\\fake.py:197\u001b[39m, in \u001b[36m__init__\u001b[39m\u001b[34m(self, browsers, os, min_version, min_percentage, platforms, fallback, safe_attrs)\u001b[39m\n",
      "\u001b[36mFile \u001b[39m\u001b[32mc:\\projects\\Portfolio-Optimizer\\venv\\Lib\\site-packages\\fake_useragent\\utils.py:80\u001b[39m, in \u001b[36mload\u001b[39m\u001b[34m()\u001b[39m\n",
      "\u001b[31mFakeUserAgentError\u001b[39m: Failed to load or parse browsers.json"
     ]
    }
   ],
   "source": [
    "from fake_useragent import UserAgent\n",
    "ua = UserAgent()\n",
    "print(ua.random)"
   ]
  },
  {
   "cell_type": "code",
   "execution_count": 40,
   "id": "79550df5",
   "metadata": {},
   "outputs": [
    {
     "name": "stdout",
     "output_type": "stream",
     "text": [
      "Error: FakeUserAgent.__init__() got an unexpected keyword argument 'use_cache_server'\n"
     ]
    }
   ],
   "source": [
    "from fake_useragent import UserAgent\n",
    "\n",
    "try:\n",
    "    ua = UserAgent(use_cache_server=False)\n",
    "    print(\"Random User-Agent:\", ua.random)\n",
    "except Exception as e:\n",
    "    print(\"Error:\", e)"
   ]
  },
  {
   "cell_type": "code",
   "execution_count": null,
   "id": "eae8178e",
   "metadata": {},
   "outputs": [
    {
     "name": "stderr",
     "output_type": "stream",
     "text": [
      "Unable to find local data/jsonl file using importlib-resources.\n",
      "Traceback (most recent call last):\n",
      "  File \"c:\\projects\\Portfolio-Optimizer\\venv\\Lib\\site-packages\\fake_useragent\\utils.py\", line 54, in find_browser_json_path\n",
      "  File \"C:\\Users\\abdul\\anaconda3\\Lib\\importlib\\resources\\_common.py\", line 22, in files\n",
      "    return from_package(get_package(package))\n",
      "                        ^^^^^^^^^^^^^^^^^^^^\n",
      "  File \"C:\\Users\\abdul\\anaconda3\\Lib\\importlib\\resources\\_common.py\", line 53, in get_package\n",
      "    resolved = resolve(package)\n",
      "               ^^^^^^^^^^^^^^^^\n",
      "  File \"C:\\Users\\abdul\\anaconda3\\Lib\\importlib\\resources\\_common.py\", line 44, in resolve\n",
      "    return cand if isinstance(cand, types.ModuleType) else importlib.import_module(cand)\n",
      "                                                           ^^^^^^^^^^^^^^^^^^^^^^^^^^^^^\n",
      "  File \"C:\\Users\\abdul\\anaconda3\\Lib\\importlib\\__init__.py\", line 126, in import_module\n",
      "    return _bootstrap._gcd_import(name[level:], package, level)\n",
      "           ^^^^^^^^^^^^^^^^^^^^^^^^^^^^^^^^^^^^^^^^^^^^^^^^^^^^\n",
      "  File \"<frozen importlib._bootstrap>\", line 1204, in _gcd_import\n",
      "  File \"<frozen importlib._bootstrap>\", line 1176, in _find_and_load\n",
      "  File \"<frozen importlib._bootstrap>\", line 1140, in _find_and_load_unlocked\n",
      "ModuleNotFoundError: No module named 'fake_useragent.data'\n"
     ]
    },
    {
     "ename": "FakeUserAgentError",
     "evalue": "Failed to load or parse browsers.json",
     "output_type": "error",
     "traceback": [
      "\u001b[31m---------------------------------------------------------------------------\u001b[39m",
      "\u001b[31mModuleNotFoundError\u001b[39m                       Traceback (most recent call last)",
      "\u001b[36mFile \u001b[39m\u001b[32mc:\\projects\\Portfolio-Optimizer\\venv\\Lib\\site-packages\\fake_useragent\\utils.py:54\u001b[39m, in \u001b[36mfind_browser_json_path\u001b[39m\u001b[34m()\u001b[39m\n",
      "\u001b[36mFile \u001b[39m\u001b[32m~\\anaconda3\\Lib\\importlib\\resources\\_common.py:22\u001b[39m, in \u001b[36mfiles\u001b[39m\u001b[34m(package)\u001b[39m\n\u001b[32m     19\u001b[39m \u001b[38;5;250m\u001b[39m\u001b[33;03m\"\"\"\u001b[39;00m\n\u001b[32m     20\u001b[39m \u001b[33;03mGet a Traversable resource from a package\u001b[39;00m\n\u001b[32m     21\u001b[39m \u001b[33;03m\"\"\"\u001b[39;00m\n\u001b[32m---> \u001b[39m\u001b[32m22\u001b[39m \u001b[38;5;28;01mreturn\u001b[39;00m from_package(\u001b[43mget_package\u001b[49m\u001b[43m(\u001b[49m\u001b[43mpackage\u001b[49m\u001b[43m)\u001b[49m)\n",
      "\u001b[36mFile \u001b[39m\u001b[32m~\\anaconda3\\Lib\\importlib\\resources\\_common.py:53\u001b[39m, in \u001b[36mget_package\u001b[39m\u001b[34m(package)\u001b[39m\n\u001b[32m     49\u001b[39m \u001b[38;5;250m\u001b[39m\u001b[33;03m\"\"\"Take a package name or module object and return the module.\u001b[39;00m\n\u001b[32m     50\u001b[39m \n\u001b[32m     51\u001b[39m \u001b[33;03mRaise an exception if the resolved module is not a package.\u001b[39;00m\n\u001b[32m     52\u001b[39m \u001b[33;03m\"\"\"\u001b[39;00m\n\u001b[32m---> \u001b[39m\u001b[32m53\u001b[39m resolved = \u001b[43mresolve\u001b[49m\u001b[43m(\u001b[49m\u001b[43mpackage\u001b[49m\u001b[43m)\u001b[49m\n\u001b[32m     54\u001b[39m \u001b[38;5;28;01mif\u001b[39;00m wrap_spec(resolved).submodule_search_locations \u001b[38;5;129;01mis\u001b[39;00m \u001b[38;5;28;01mNone\u001b[39;00m:\n",
      "\u001b[36mFile \u001b[39m\u001b[32m~\\anaconda3\\Lib\\importlib\\resources\\_common.py:44\u001b[39m, in \u001b[36mresolve\u001b[39m\u001b[34m(cand)\u001b[39m\n\u001b[32m     42\u001b[39m \u001b[38;5;28;01mdef\u001b[39;00m\u001b[38;5;250m \u001b[39m\u001b[34mresolve\u001b[39m(cand):\n\u001b[32m     43\u001b[39m     \u001b[38;5;66;03m# type: (Package) -> types.ModuleType\u001b[39;00m\n\u001b[32m---> \u001b[39m\u001b[32m44\u001b[39m     \u001b[38;5;28;01mreturn\u001b[39;00m cand \u001b[38;5;28;01mif\u001b[39;00m \u001b[38;5;28misinstance\u001b[39m(cand, types.ModuleType) \u001b[38;5;28;01melse\u001b[39;00m \u001b[43mimportlib\u001b[49m\u001b[43m.\u001b[49m\u001b[43mimport_module\u001b[49m\u001b[43m(\u001b[49m\u001b[43mcand\u001b[49m\u001b[43m)\u001b[49m\n",
      "\u001b[36mFile \u001b[39m\u001b[32m~\\anaconda3\\Lib\\importlib\\__init__.py:126\u001b[39m, in \u001b[36mimport_module\u001b[39m\u001b[34m(name, package)\u001b[39m\n\u001b[32m    125\u001b[39m         level += \u001b[32m1\u001b[39m\n\u001b[32m--> \u001b[39m\u001b[32m126\u001b[39m \u001b[38;5;28;01mreturn\u001b[39;00m \u001b[43m_bootstrap\u001b[49m\u001b[43m.\u001b[49m\u001b[43m_gcd_import\u001b[49m\u001b[43m(\u001b[49m\u001b[43mname\u001b[49m\u001b[43m[\u001b[49m\u001b[43mlevel\u001b[49m\u001b[43m:\u001b[49m\u001b[43m]\u001b[49m\u001b[43m,\u001b[49m\u001b[43m \u001b[49m\u001b[43mpackage\u001b[49m\u001b[43m,\u001b[49m\u001b[43m \u001b[49m\u001b[43mlevel\u001b[49m\u001b[43m)\u001b[49m\n",
      "\u001b[36mFile \u001b[39m\u001b[32m<frozen importlib._bootstrap>:1204\u001b[39m, in \u001b[36m_gcd_import\u001b[39m\u001b[34m(name, package, level)\u001b[39m\n",
      "\u001b[36mFile \u001b[39m\u001b[32m<frozen importlib._bootstrap>:1176\u001b[39m, in \u001b[36m_find_and_load\u001b[39m\u001b[34m(name, import_)\u001b[39m\n",
      "\u001b[36mFile \u001b[39m\u001b[32m<frozen importlib._bootstrap>:1140\u001b[39m, in \u001b[36m_find_and_load_unlocked\u001b[39m\u001b[34m(name, import_)\u001b[39m\n",
      "\u001b[31mModuleNotFoundError\u001b[39m: No module named 'fake_useragent.data'",
      "\nThe above exception was the direct cause of the following exception:\n",
      "\u001b[31mFakeUserAgentError\u001b[39m                        Traceback (most recent call last)",
      "\u001b[36mFile \u001b[39m\u001b[32mc:\\projects\\Portfolio-Optimizer\\venv\\Lib\\site-packages\\fake_useragent\\utils.py:76\u001b[39m, in \u001b[36mload\u001b[39m\u001b[34m()\u001b[39m\n",
      "\u001b[36mFile \u001b[39m\u001b[32mc:\\projects\\Portfolio-Optimizer\\venv\\Lib\\site-packages\\fake_useragent\\utils.py:61\u001b[39m, in \u001b[36mfind_browser_json_path\u001b[39m\u001b[34m()\u001b[39m\n",
      "\u001b[31mFakeUserAgentError\u001b[39m: Could not locate browsers.jsonl file",
      "\nThe above exception was the direct cause of the following exception:\n",
      "\u001b[31mFakeUserAgentError\u001b[39m                        Traceback (most recent call last)",
      "\u001b[36mCell\u001b[39m\u001b[36m \u001b[39m\u001b[32mIn[43]\u001b[39m\u001b[32m, line 2\u001b[39m\n\u001b[32m      1\u001b[39m \u001b[38;5;28;01mfrom\u001b[39;00m\u001b[38;5;250m \u001b[39m\u001b[34;01mfake_useragent\u001b[39;00m\u001b[38;5;250m \u001b[39m\u001b[38;5;28;01mimport\u001b[39;00m UserAgent\n\u001b[32m----> \u001b[39m\u001b[32m2\u001b[39m ua = \u001b[43mUserAgent\u001b[49m\u001b[43m(\u001b[49m\u001b[43m)\u001b[49m\n\u001b[32m      4\u001b[39m \u001b[38;5;66;03m# Get a random browser user-agent string\u001b[39;00m\n\u001b[32m      5\u001b[39m \u001b[38;5;28mprint\u001b[39m(ua.random)\n",
      "\u001b[36mFile \u001b[39m\u001b[32mc:\\projects\\Portfolio-Optimizer\\venv\\Lib\\site-packages\\fake_useragent\\fake.py:197\u001b[39m, in \u001b[36m__init__\u001b[39m\u001b[34m(self, browsers, os, min_version, min_percentage, platforms, fallback, safe_attrs)\u001b[39m\n",
      "\u001b[36mFile \u001b[39m\u001b[32mc:\\projects\\Portfolio-Optimizer\\venv\\Lib\\site-packages\\fake_useragent\\utils.py:80\u001b[39m, in \u001b[36mload\u001b[39m\u001b[34m()\u001b[39m\n",
      "\u001b[31mFakeUserAgentError\u001b[39m: Failed to load or parse browsers.json"
     ]
    }
   ],
   "source": []
  },
  {
   "cell_type": "code",
   "execution_count": null,
   "id": "72a6fbe1",
   "metadata": {},
   "outputs": [],
   "source": []
  }
 ],
 "metadata": {
  "kernelspec": {
   "display_name": "venv",
   "language": "python",
   "name": "python3"
  },
  "language_info": {
   "codemirror_mode": {
    "name": "ipython",
    "version": 3
   },
   "file_extension": ".py",
   "mimetype": "text/x-python",
   "name": "python",
   "nbconvert_exporter": "python",
   "pygments_lexer": "ipython3",
   "version": "3.11.5"
  }
 },
 "nbformat": 4,
 "nbformat_minor": 5
}
